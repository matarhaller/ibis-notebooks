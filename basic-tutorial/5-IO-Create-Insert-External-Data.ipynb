{
 "cells": [
  {
   "cell_type": "code",
   "execution_count": 1,
   "metadata": {
    "collapsed": false
   },
   "outputs": [],
   "source": [
    "import ibis\n",
    "import os\n",
    "hdfs_port = os.environ.get('IBIS_WEBHDFS_PORT', 50070)\n",
    "\n",
    "ic = ibis.impala_connect(host='quickstart.cloudera', database='ibis_testing')\n",
    "hdfs = ibis.hdfs_connect(host='quickstart.cloudera', port=hdfs_port)\n",
    "con = ibis.make_client(ic, hdfs_client=hdfs)\n",
    "\n",
    "ibis.options.interactive = True"
   ]
  },
  {
   "cell_type": "markdown",
   "metadata": {},
   "source": [
    "Creating new Impala tables from Ibis expressions\n",
    "---\n",
    "\n",
    "Suppose you have an Ibis expression that produces a table:"
   ]
  },
  {
   "cell_type": "code",
   "execution_count": 2,
   "metadata": {
    "collapsed": false
   },
   "outputs": [
    {
     "data": {
      "text/plain": [
       "  string_col  min_foo  max_foo  sum_foo\n",
       "0          6       54       54    39420\n",
       "1          4       36       36    26280\n",
       "2          7       63       63    45990\n",
       "3          8       72       72    52560\n",
       "4          5       45       45    32850\n",
       "5          9       81       81    59130"
      ]
     },
     "execution_count": 2,
     "metadata": {},
     "output_type": "execute_result"
    }
   ],
   "source": [
    "table = con.table('functional_alltypes')\n",
    "\n",
    "t2 = table[table, (table.bigint_col - table.int_col).name('foo')]\n",
    "\n",
    "expr = (t2\n",
    "        [t2.bigint_col > 30]\n",
    "        .group_by('string_col')\n",
    "        .aggregate([t2.foo.min().name('min_foo'),\n",
    "                    t2.foo.max().name('max_foo'),\n",
    "                    t2.foo.sum().name('sum_foo')]))\n",
    "expr"
   ]
  },
  {
   "cell_type": "markdown",
   "metadata": {},
   "source": [
    "To create a table in the database from the results of this expression, use the connection's `create_table` method:"
   ]
  },
  {
   "cell_type": "code",
   "execution_count": 3,
   "metadata": {
    "collapsed": false
   },
   "outputs": [],
   "source": [
    "con.create_table('testing_table', expr, database='ibis_testing')"
   ]
  },
  {
   "cell_type": "markdown",
   "metadata": {},
   "source": [
    "By default, this creates a table stored as **Parquet format** in HDFS. Support for views, external tables, configurable file formats, and so forth, will come in the future. Feedback on what kind of interface would be useful for that would help."
   ]
  },
  {
   "cell_type": "code",
   "execution_count": 4,
   "metadata": {
    "collapsed": false
   },
   "outputs": [
    {
     "data": {
      "text/plain": [
       "  string_col  min_foo  max_foo  sum_foo\n",
       "0          6       54       54    39420\n",
       "1          4       36       36    26280\n",
       "2          7       63       63    45990\n",
       "3          9       81       81    59130\n",
       "4          8       72       72    52560\n",
       "5          5       45       45    32850"
      ]
     },
     "execution_count": 4,
     "metadata": {},
     "output_type": "execute_result"
    }
   ],
   "source": [
    "con.table('testing_table')"
   ]
  },
  {
   "cell_type": "markdown",
   "metadata": {},
   "source": [
    "Tables can be similarly dropped with `drop_table`"
   ]
  },
  {
   "cell_type": "code",
   "execution_count": 5,
   "metadata": {
    "collapsed": false
   },
   "outputs": [],
   "source": [
    "con.drop_table('testing_table', database='ibis_testing')"
   ]
  },
  {
   "cell_type": "markdown",
   "metadata": {},
   "source": [
    "Inserting data into existing Impala tables\n",
    "---\n",
    "\n",
    "The client's `insert` method can append new data to an existing table or overwrite the data that is in there."
   ]
  },
  {
   "cell_type": "code",
   "execution_count": 6,
   "metadata": {
    "collapsed": false
   },
   "outputs": [
    {
     "data": {
      "text/plain": [
       "  string_col  min_foo  max_foo  sum_foo\n",
       "0          9       81       81    59130\n",
       "1          6       54       54    39420\n",
       "2          4       36       36    26280\n",
       "3          7       63       63    45990\n",
       "4          8       72       72    52560\n",
       "5          5       45       45    32850"
      ]
     },
     "execution_count": 6,
     "metadata": {},
     "output_type": "execute_result"
    }
   ],
   "source": [
    "con.create_table('testing_table', expr)\n",
    "con.table('testing_table')"
   ]
  },
  {
   "cell_type": "code",
   "execution_count": 7,
   "metadata": {
    "collapsed": false
   },
   "outputs": [
    {
     "data": {
      "text/plain": [
       "   string_col  min_foo  max_foo  sum_foo\n",
       "0           8       72       72    52560\n",
       "1           5       45       45    32850\n",
       "2           6       54       54    39420\n",
       "3           4       36       36    26280\n",
       "4           7       63       63    45990\n",
       "5           9       81       81    59130\n",
       "6           8       72       72    52560\n",
       "7           5       45       45    32850\n",
       "8           9       81       81    59130\n",
       "9           6       54       54    39420\n",
       "10          4       36       36    26280\n",
       "11          7       63       63    45990"
      ]
     },
     "execution_count": 7,
     "metadata": {},
     "output_type": "execute_result"
    }
   ],
   "source": [
    "con.insert('testing_table', expr)\n",
    "con.table('testing_table')"
   ]
  },
  {
   "cell_type": "code",
   "execution_count": 8,
   "metadata": {
    "collapsed": false
   },
   "outputs": [],
   "source": [
    "con.drop_table('testing_table')"
   ]
  },
  {
   "cell_type": "markdown",
   "metadata": {},
   "source": [
    "Uploading / downloading data from HDFS\n",
    "---"
   ]
  },
  {
   "cell_type": "markdown",
   "metadata": {},
   "source": [
    "If you've set up an HDFS connection, you can use the Ibis HDFS interface to look through your data and read and write files to and from HDFS:"
   ]
  },
  {
   "cell_type": "code",
   "execution_count": 9,
   "metadata": {
    "collapsed": false
   },
   "outputs": [
    {
     "data": {
      "text/plain": [
       "[u'/__ibis/ibis-testing-data/avro',\n",
       " u'/__ibis/ibis-testing-data/csv',\n",
       " u'/__ibis/ibis-testing-data/parquet',\n",
       " u'/__ibis/ibis-testing-data/udf']"
      ]
     },
     "execution_count": 9,
     "metadata": {},
     "output_type": "execute_result"
    }
   ],
   "source": [
    "hdfs = con.hdfs\n",
    "hdfs.ls('/__ibis/ibis-testing-data')"
   ]
  },
  {
   "cell_type": "code",
   "execution_count": 10,
   "metadata": {
    "collapsed": false
   },
   "outputs": [
    {
     "data": {
      "text/plain": [
       "[u'/__ibis/ibis-testing-data/parquet/functional_alltypes',\n",
       " u'/__ibis/ibis-testing-data/parquet/tpch_ctas_cancel',\n",
       " u'/__ibis/ibis-testing-data/parquet/tpch_customer',\n",
       " u'/__ibis/ibis-testing-data/parquet/tpch_lineitem',\n",
       " u'/__ibis/ibis-testing-data/parquet/tpch_nation',\n",
       " u'/__ibis/ibis-testing-data/parquet/tpch_orders',\n",
       " u'/__ibis/ibis-testing-data/parquet/tpch_part',\n",
       " u'/__ibis/ibis-testing-data/parquet/tpch_partsupp',\n",
       " u'/__ibis/ibis-testing-data/parquet/tpch_region',\n",
       " u'/__ibis/ibis-testing-data/parquet/tpch_supplier']"
      ]
     },
     "execution_count": 10,
     "metadata": {},
     "output_type": "execute_result"
    }
   ],
   "source": [
    "hdfs.ls('/__ibis/ibis-testing-data/parquet')"
   ]
  },
  {
   "cell_type": "markdown",
   "metadata": {},
   "source": [
    "Suppose we wanted to download `/__ibis/ibis-testing-data/parquet/functional_alltypes`, which is a directory. We need only do:"
   ]
  },
  {
   "cell_type": "code",
   "execution_count": 11,
   "metadata": {
    "collapsed": false
   },
   "outputs": [
    {
     "data": {
      "text/plain": [
       "'parquet_dir'"
      ]
     },
     "execution_count": 11,
     "metadata": {},
     "output_type": "execute_result"
    }
   ],
   "source": [
    "!rm -rf parquet_dir/\n",
    "hdfs.get('/__ibis/ibis-testing-data/parquet/functional_alltypes', 'parquet_dir')"
   ]
  },
  {
   "cell_type": "markdown",
   "metadata": {},
   "source": [
    "Now we have that directory locally:"
   ]
  },
  {
   "cell_type": "code",
   "execution_count": 12,
   "metadata": {
    "collapsed": false
   },
   "outputs": [
    {
     "name": "stdout",
     "output_type": "stream",
     "text": [
      "e54d1a51b57207fb-757fe03770d6a8ab_722308252_data.0.parq\r\n",
      "e54d1a51b57207fb-757fe03770d6a8ac_722308252_data.0.parq\r\n",
      "e54d1a51b57207fb-757fe03770d6a8ad_1611361036_data.0.parq\r\n"
     ]
    }
   ],
   "source": [
    "!ls parquet_dir/"
   ]
  },
  {
   "cell_type": "markdown",
   "metadata": {},
   "source": [
    "Files and directories can be written to HDFS just as easily using `put`:"
   ]
  },
  {
   "cell_type": "code",
   "execution_count": 13,
   "metadata": {
    "collapsed": false
   },
   "outputs": [
    {
     "name": "stderr",
     "output_type": "stream",
     "text": [
      "WARNING:hdfs.client:<InsecureClient(url=http://quickstart.cloudera:5070, root=None)> :: [404] /webhdfs/v1/__ibis/dir-write-example/e54d1a51b57207fb-757fe03770d6a8ac_722308252_data.0.parq?user.name=wesm&op=GETFILESTATUS:\n",
      "{\"RemoteException\":{\"exception\":\"FileNotFoundException\",\"javaClassName\":\"java.io.FileNotFoundException\",\"message\":\"File does not exist: /__ibis/dir-write-example/e54d1a51b57207fb-757fe03770d6a8ac_722308252_data.0.parq\"}}\n",
      "WARNING:hdfs.client:<InsecureClient(url=http://quickstart.cloudera:5070, root=None)> :: [404] /webhdfs/v1/__ibis/dir-write-example/e54d1a51b57207fb-757fe03770d6a8ac_722308252_data.0.parq?user.name=wesm&op=LISTSTATUS:\n",
      "{\"RemoteException\":{\"exception\":\"FileNotFoundException\",\"javaClassName\":\"java.io.FileNotFoundException\",\"message\":\"File /__ibis/dir-write-example/e54d1a51b57207fb-757fe03770d6a8ac_722308252_data.0.parq does not exist.\"}}\n",
      "WARNING:hdfs.client:<InsecureClient(url=http://quickstart.cloudera:5070, root=None)> :: [404] /webhdfs/v1/__ibis/dir-write-example/e54d1a51b57207fb-757fe03770d6a8ab_722308252_data.0.parq?user.name=wesm&op=GETFILESTATUS:\n",
      "{\"RemoteException\":{\"exception\":\"FileNotFoundException\",\"javaClassName\":\"java.io.FileNotFoundException\",\"message\":\"File does not exist: /__ibis/dir-write-example/e54d1a51b57207fb-757fe03770d6a8ab_722308252_data.0.parq\"}}\n"
     ]
    },
    {
     "name": "stdout",
     "output_type": "stream",
     "text": [
      "Writing local parquet_dir/e54d1a51b57207fb-757fe03770d6a8ac_722308252_data.0.parq to HDFS /__ibis/dir-write-example/e54d1a51b57207fb-757fe03770d6a8ac_722308252_data.0.parq\n",
      "Writing local parquet_dir/e54d1a51b57207fb-757fe03770d6a8ab_722308252_data.0.parq to HDFS /__ibis/dir-write-example/e54d1a51b57207fb-757fe03770d6a8ab_722308252_data.0.parq"
     ]
    },
    {
     "name": "stderr",
     "output_type": "stream",
     "text": [
      "WARNING:hdfs.client:<InsecureClient(url=http://quickstart.cloudera:5070, root=None)> :: [404] /webhdfs/v1/__ibis/dir-write-example/e54d1a51b57207fb-757fe03770d6a8ab_722308252_data.0.parq?user.name=wesm&op=LISTSTATUS:\n",
      "{\"RemoteException\":{\"exception\":\"FileNotFoundException\",\"javaClassName\":\"java.io.FileNotFoundException\",\"message\":\"File /__ibis/dir-write-example/e54d1a51b57207fb-757fe03770d6a8ab_722308252_data.0.parq does not exist.\"}}\n",
      "WARNING:hdfs.client:<InsecureClient(url=http://quickstart.cloudera:5070, root=None)> :: [404] /webhdfs/v1/__ibis/dir-write-example/e54d1a51b57207fb-757fe03770d6a8ad_1611361036_data.0.parq?user.name=wesm&op=GETFILESTATUS:\n",
      "{\"RemoteException\":{\"exception\":\"FileNotFoundException\",\"javaClassName\":\"java.io.FileNotFoundException\",\"message\":\"File does not exist: /__ibis/dir-write-example/e54d1a51b57207fb-757fe03770d6a8ad_1611361036_data.0.parq\"}}\n"
     ]
    },
    {
     "name": "stdout",
     "output_type": "stream",
     "text": [
      "\n",
      "Writing local parquet_dir/e54d1a51b57207fb-757fe03770d6a8ad_1611361036_data.0.parq to HDFS /__ibis/dir-write-example/e54d1a51b57207fb-757fe03770d6a8ad_1611361036_data.0.parq"
     ]
    },
    {
     "name": "stderr",
     "output_type": "stream",
     "text": [
      "WARNING:hdfs.client:<InsecureClient(url=http://quickstart.cloudera:5070, root=None)> :: [404] /webhdfs/v1/__ibis/dir-write-example/e54d1a51b57207fb-757fe03770d6a8ad_1611361036_data.0.parq?user.name=wesm&op=LISTSTATUS:\n",
      "{\"RemoteException\":{\"exception\":\"FileNotFoundException\",\"javaClassName\":\"java.io.FileNotFoundException\",\"message\":\"File /__ibis/dir-write-example/e54d1a51b57207fb-757fe03770d6a8ad_1611361036_data.0.parq does not exist.\"}}\n"
     ]
    },
    {
     "name": "stdout",
     "output_type": "stream",
     "text": [
      "\n"
     ]
    }
   ],
   "source": [
    "path = '/__ibis/dir-write-example'\n",
    "if hdfs.exists(path):\n",
    "    hdfs.rmdir(path)\n",
    "hdfs.put(path, 'parquet_dir', verbose=True)"
   ]
  },
  {
   "cell_type": "code",
   "execution_count": 14,
   "metadata": {
    "collapsed": false
   },
   "outputs": [
    {
     "data": {
      "text/plain": [
       "[u'/__ibis/dir-write-example/e54d1a51b57207fb-757fe03770d6a8ab_722308252_data.0.parq',\n",
       " u'/__ibis/dir-write-example/e54d1a51b57207fb-757fe03770d6a8ac_722308252_data.0.parq',\n",
       " u'/__ibis/dir-write-example/e54d1a51b57207fb-757fe03770d6a8ad_1611361036_data.0.parq']"
      ]
     },
     "execution_count": 14,
     "metadata": {},
     "output_type": "execute_result"
    }
   ],
   "source": [
    "hdfs.ls('/__ibis/dir-write-example')"
   ]
  },
  {
   "cell_type": "markdown",
   "metadata": {},
   "source": [
    "Delete files with `rm` or directories with `rmdir`:"
   ]
  },
  {
   "cell_type": "code",
   "execution_count": 15,
   "metadata": {
    "collapsed": false
   },
   "outputs": [],
   "source": [
    "hdfs.rmdir('/__ibis/dir-write-example')"
   ]
  },
  {
   "cell_type": "code",
   "execution_count": 16,
   "metadata": {
    "collapsed": false
   },
   "outputs": [],
   "source": [
    "!rm -rf parquet_dir/"
   ]
  },
  {
   "cell_type": "markdown",
   "metadata": {},
   "source": [
    "Queries on Parquet, Avro, and Delimited files in HDFS\n",
    "---\n",
    "\n",
    "Ibis can easily create temporary or persistent Impala tables that reference data in the following formats:\n",
    "\n",
    "- Parquet (`parquet_file`)\n",
    "- Avro (`avro_file`)\n",
    "- Delimited text formats (CSV, TSV, etc.) (`delimited_file`)"
   ]
  },
  {
   "cell_type": "markdown",
   "metadata": {},
   "source": [
    "Parquet is the easiest because the schema can be read from the data files:"
   ]
  },
  {
   "cell_type": "code",
   "execution_count": 17,
   "metadata": {
    "collapsed": false
   },
   "outputs": [
    {
     "data": {
      "text/plain": [
       "      l_orderkey  l_partkey  l_suppkey  l_linenumber l_quantity  \\\n",
       "0              1     155190       7706             1      17.00   \n",
       "1              1      67310       7311             2      36.00   \n",
       "2              1      63700       3701             3       8.00   \n",
       "3              1       2132       4633             4      28.00   \n",
       "4              1      24027       1534             5      24.00   \n",
       "5              1      15635        638             6      32.00   \n",
       "6              2     106170       1191             1      38.00   \n",
       "7              3       4297       1798             1      45.00   \n",
       "8              3      19036       6540             2      49.00   \n",
       "9              3     128449       3474             3      27.00   \n",
       "10             3      29380       1883             4       2.00   \n",
       "11             3     183095        650             5      28.00   \n",
       "12             3      62143       9662             6      26.00   \n",
       "13             4      88035       5560             1      30.00   \n",
       "14             5     108570       8571             1      15.00   \n",
       "15             5     123927       3928             2      26.00   \n",
       "16             5      37531         35             3      50.00   \n",
       "17             6     139636       2150             1      37.00   \n",
       "18             7     182052       9607             1      12.00   \n",
       "19             7     145243       7758             2       9.00   \n",
       "20             7      94780       9799             3      46.00   \n",
       "21             7     163073       3074             4      28.00   \n",
       "22             7     151894       9440             5      38.00   \n",
       "23             7      79251       1759             6      35.00   \n",
       "24             7     157238       2269             7       5.00   \n",
       "25            32      82704       7721             1      28.00   \n",
       "26            32     197921        441             2      32.00   \n",
       "27            32      44161       6666             3       2.00   \n",
       "28            32       2743       7744             4       4.00   \n",
       "29            32      85811       8320             5      44.00   \n",
       "...          ...        ...        ...           ...        ...   \n",
       "9970     1076352     156876       6877             2      33.00   \n",
       "9971     1076352       8401       8402             3       2.00   \n",
       "9972     1076352     179796       4831             4      43.00   \n",
       "9973     1076352      18630       8631             5       8.00   \n",
       "9974     1076352      99902       2412             6      17.00   \n",
       "9975     1076352      51536       9052             7      33.00   \n",
       "9976     1076353     161453       3970             1      25.00   \n",
       "9977     1076353     128789       6326             2      35.00   \n",
       "9978     1076353     152039       4555             3      19.00   \n",
       "9979     1076353     103168       5679             4      36.00   \n",
       "9980     1076354      37687       7688             1       6.00   \n",
       "9981     1076355      13128       8131             1      40.00   \n",
       "9982     1076355      40807        808             2      48.00   \n",
       "9983     1076355      34888       7392             3      23.00   \n",
       "9984     1076355     153190       3191             4      19.00   \n",
       "9985     1076355      52933        449             5      19.00   \n",
       "9986     1076355      37943       2950             6      33.00   \n",
       "9987     1076355     106982       4513             7      26.00   \n",
       "9988     1076356      44204       9213             1       7.00   \n",
       "9989     1076356     126334       6335             2      26.00   \n",
       "9990     1076356      90936       5955             3      24.00   \n",
       "9991     1076356     155042       5043             4      49.00   \n",
       "9992     1076356     181043       1044             5      37.00   \n",
       "9993     1076357      75688       3210             1      44.00   \n",
       "9994     1076358     154766       4767             1      21.00   \n",
       "9995     1076359      37156       9660             1      42.00   \n",
       "9996     1076359      68359        866             2      47.00   \n",
       "9997     1076359     108818       8819             3      15.00   \n",
       "9998     1076359      95144       2672             4      24.00   \n",
       "9999     1076384      88184        693             1      45.00   \n",
       "\n",
       "     l_extendedprice l_discount l_tax l_returnflag l_linestatus  l_shipdate  \\\n",
       "0           21168.23       0.04  0.02            N            O  1996-03-13   \n",
       "1           45983.16       0.09  0.06            N            O  1996-04-12   \n",
       "2           13309.60       0.10  0.02            N            O  1996-01-29   \n",
       "3           28955.64       0.09  0.06            N            O  1996-04-21   \n",
       "4           22824.48       0.10  0.04            N            O  1996-03-30   \n",
       "5           49620.16       0.07  0.02            N            O  1996-01-30   \n",
       "6           44694.46       0.00  0.05            N            O  1997-01-28   \n",
       "7           54058.05       0.06  0.00            R            F  1994-02-02   \n",
       "8           46796.47       0.10  0.00            R            F  1993-11-09   \n",
       "9           39890.88       0.06  0.07            A            F  1994-01-16   \n",
       "10           2618.76       0.01  0.06            A            F  1993-12-04   \n",
       "11          32986.52       0.04  0.00            R            F  1993-12-14   \n",
       "12          28733.64       0.10  0.02            A            F  1993-10-29   \n",
       "13          30690.90       0.03  0.08            N            O  1996-01-10   \n",
       "14          23678.55       0.02  0.04            R            F  1994-10-31   \n",
       "15          50723.92       0.07  0.08            R            F  1994-10-16   \n",
       "16          73426.50       0.08  0.03            A            F  1994-08-08   \n",
       "17          61998.31       0.08  0.03            A            F  1992-04-27   \n",
       "18          13608.60       0.07  0.03            N            O  1996-05-07   \n",
       "19          11594.16       0.08  0.08            N            O  1996-02-01   \n",
       "20          81639.88       0.10  0.07            N            O  1996-01-15   \n",
       "21          31809.96       0.03  0.04            N            O  1996-03-21   \n",
       "22          73943.82       0.08  0.01            N            O  1996-02-11   \n",
       "23          43058.75       0.06  0.03            N            O  1996-01-16   \n",
       "24           6476.15       0.04  0.02            N            O  1996-02-10   \n",
       "25          47227.60       0.05  0.08            N            O  1995-10-23   \n",
       "26          64605.44       0.02  0.00            N            O  1995-08-14   \n",
       "27           2210.32       0.09  0.02            N            O  1995-08-07   \n",
       "28           6582.96       0.09  0.03            N            O  1995-08-04   \n",
       "29          79059.64       0.05  0.06            N            O  1995-08-28   \n",
       "...              ...        ...   ...          ...          ...         ...   \n",
       "9970        63784.71       0.06  0.04            A            F  1994-06-28   \n",
       "9971         2618.80       0.07  0.01            A            F  1994-05-06   \n",
       "9972        80658.97       0.03  0.05            R            F  1994-06-30   \n",
       "9973        12389.04       0.08  0.03            R            F  1994-04-16   \n",
       "9974        32332.30       0.07  0.04            R            F  1994-06-01   \n",
       "9975        49088.49       0.08  0.00            R            F  1994-05-28   \n",
       "9976        37861.25       0.05  0.01            N            O  1998-05-21   \n",
       "9977        63622.30       0.06  0.02            N            O  1998-04-26   \n",
       "9978        20729.57       0.07  0.03            N            O  1998-03-01   \n",
       "9979        42161.76       0.02  0.02            N            O  1998-04-19   \n",
       "9980         9748.08       0.10  0.01            N            O  1996-01-02   \n",
       "9981        41644.80       0.08  0.03            N            O  1996-12-16   \n",
       "9982        83894.40       0.01  0.08            N            O  1997-01-14   \n",
       "9983        41926.24       0.07  0.08            N            O  1997-01-31   \n",
       "9984        23620.61       0.03  0.04            N            O  1997-01-28   \n",
       "9985        35832.67       0.09  0.04            N            O  1997-02-17   \n",
       "9986        62071.02       0.05  0.02            N            O  1996-11-23   \n",
       "9987        51713.48       0.06  0.00            N            O  1997-02-02   \n",
       "9988         8037.40       0.10  0.02            N            O  1996-05-08   \n",
       "9989        35368.58       0.06  0.05            N            O  1996-07-01   \n",
       "9990        46246.32       0.01  0.07            N            O  1996-08-19   \n",
       "9991        53754.96       0.04  0.01            N            O  1996-08-07   \n",
       "9992        41589.48       0.05  0.04            N            O  1996-06-28   \n",
       "9993        73201.92       0.08  0.08            N            O  1996-09-16   \n",
       "9994        38235.96       0.07  0.05            N            O  1995-07-16   \n",
       "9995        45912.30       0.06  0.05            N            O  1998-02-20   \n",
       "9996        62385.45       0.02  0.06            N            O  1998-04-18   \n",
       "9997        27402.15       0.03  0.01            N            O  1998-02-26   \n",
       "9998        27339.36       0.03  0.02            N            O  1998-01-01   \n",
       "9999        52748.10       0.06  0.06            R            F  1995-05-01   \n",
       "\n",
       "     l_commitdate l_receiptdate     l_shipinstruct l_shipmode  \\\n",
       "0      1996-02-12    1996-03-22  DELIVER IN PERSON      TRUCK   \n",
       "1      1996-02-28    1996-04-20   TAKE BACK RETURN       MAIL   \n",
       "2      1996-03-05    1996-01-31   TAKE BACK RETURN    REG AIR   \n",
       "3      1996-03-30    1996-05-16               NONE        AIR   \n",
       "4      1996-03-14    1996-04-01               NONE        FOB   \n",
       "5      1996-02-07    1996-02-03  DELIVER IN PERSON       MAIL   \n",
       "6      1997-01-14    1997-02-02   TAKE BACK RETURN       RAIL   \n",
       "7      1994-01-04    1994-02-23               NONE        AIR   \n",
       "8      1993-12-20    1993-11-24   TAKE BACK RETURN       RAIL   \n",
       "9      1993-11-22    1994-01-23  DELIVER IN PERSON       SHIP   \n",
       "10     1994-01-07    1994-01-01               NONE      TRUCK   \n",
       "11     1994-01-10    1994-01-01   TAKE BACK RETURN        FOB   \n",
       "12     1993-12-18    1993-11-04   TAKE BACK RETURN       RAIL   \n",
       "13     1995-12-14    1996-01-18  DELIVER IN PERSON    REG AIR   \n",
       "14     1994-08-31    1994-11-20               NONE        AIR   \n",
       "15     1994-09-25    1994-10-19               NONE        FOB   \n",
       "16     1994-10-13    1994-08-26  DELIVER IN PERSON        AIR   \n",
       "17     1992-05-15    1992-05-02   TAKE BACK RETURN      TRUCK   \n",
       "18     1996-03-13    1996-06-03   TAKE BACK RETURN        FOB   \n",
       "19     1996-03-02    1996-02-19   TAKE BACK RETURN       SHIP   \n",
       "20     1996-03-27    1996-02-03        COLLECT COD       MAIL   \n",
       "21     1996-04-08    1996-04-20               NONE        FOB   \n",
       "22     1996-02-24    1996-02-18  DELIVER IN PERSON      TRUCK   \n",
       "23     1996-02-23    1996-01-22   TAKE BACK RETURN        FOB   \n",
       "24     1996-03-26    1996-02-13               NONE        FOB   \n",
       "25     1995-08-27    1995-10-26   TAKE BACK RETURN      TRUCK   \n",
       "26     1995-10-07    1995-08-27        COLLECT COD        AIR   \n",
       "27     1995-10-07    1995-08-23  DELIVER IN PERSON        AIR   \n",
       "28     1995-10-01    1995-09-03               NONE    REG AIR   \n",
       "29     1995-08-20    1995-09-14  DELIVER IN PERSON        AIR   \n",
       "...           ...           ...                ...        ...   \n",
       "9970   1994-06-09    1994-07-01               NONE        FOB   \n",
       "9971   1994-05-26    1994-05-29        COLLECT COD    REG AIR   \n",
       "9972   1994-06-17    1994-07-13               NONE       MAIL   \n",
       "9973   1994-05-18    1994-04-30   TAKE BACK RETURN       SHIP   \n",
       "9974   1994-06-12    1994-06-06        COLLECT COD       SHIP   \n",
       "9975   1994-05-24    1994-06-23   TAKE BACK RETURN       MAIL   \n",
       "9976   1998-05-20    1998-06-13        COLLECT COD       SHIP   \n",
       "9977   1998-04-04    1998-05-12        COLLECT COD        FOB   \n",
       "9978   1998-04-22    1998-03-15  DELIVER IN PERSON       MAIL   \n",
       "9979   1998-04-01    1998-04-21               NONE       RAIL   \n",
       "9980   1996-01-18    1996-01-31        COLLECT COD      TRUCK   \n",
       "9981   1997-01-08    1997-01-01        COLLECT COD        FOB   \n",
       "9982   1996-12-29    1997-01-31               NONE       SHIP   \n",
       "9983   1996-12-12    1997-02-22               NONE        AIR   \n",
       "9984   1996-12-07    1997-02-22               NONE    REG AIR   \n",
       "9985   1996-12-30    1997-03-19               NONE       SHIP   \n",
       "9986   1996-12-06    1996-12-06   TAKE BACK RETURN        FOB   \n",
       "9987   1997-01-23    1997-03-01  DELIVER IN PERSON    REG AIR   \n",
       "9988   1996-05-30    1996-05-25  DELIVER IN PERSON        FOB   \n",
       "9989   1996-07-02    1996-07-24               NONE      TRUCK   \n",
       "9990   1996-07-08    1996-09-12  DELIVER IN PERSON    REG AIR   \n",
       "9991   1996-06-14    1996-08-20  DELIVER IN PERSON        AIR   \n",
       "9992   1996-07-17    1996-06-30   TAKE BACK RETURN       RAIL   \n",
       "9993   1996-11-30    1996-10-03  DELIVER IN PERSON    REG AIR   \n",
       "9994   1995-07-19    1995-07-27  DELIVER IN PERSON       RAIL   \n",
       "9995   1998-03-05    1998-03-05        COLLECT COD        AIR   \n",
       "9996   1998-01-26    1998-05-17  DELIVER IN PERSON       SHIP   \n",
       "9997   1998-01-23    1998-03-09               NONE       RAIL   \n",
       "9998   1998-03-05    1998-01-17  DELIVER IN PERSON       RAIL   \n",
       "9999   1995-06-28    1995-05-10        COLLECT COD       RAIL   \n",
       "\n",
       "                                        l_comment  \n",
       "0                         egular courts above the  \n",
       "1              ly final dependencies: slyly bold   \n",
       "2                   riously. regular, express dep  \n",
       "3                         lites. fluffily even de  \n",
       "4                         pending foxes. slyly re  \n",
       "5                               arefully slyly ex  \n",
       "6                 ven requests. deposits breach a  \n",
       "7             ongside of the furiously brave acco  \n",
       "8                           unusual accounts. eve  \n",
       "9                                nal foxes wake.   \n",
       "10                          y. fluffily pending d  \n",
       "11                         ages nag slyly pending  \n",
       "12                      ges sleep after the caref  \n",
       "13         - quickly regular packages sleep. idly  \n",
       "14                             ts wake furiously   \n",
       "15          sts use slyly quickly special instruc  \n",
       "16                    eodolites. fluffily unusual  \n",
       "17                      p furiously special foxes  \n",
       "18                 ss pinto beans wake against th  \n",
       "19                               es. instructions  \n",
       "20                                 unusual reques  \n",
       "21                 . slyly special requests haggl  \n",
       "22        ns haggle carefully ironic deposits. bl  \n",
       "23     jole. excuses wake carefully alongside of   \n",
       "24                                  ithely regula  \n",
       "25                             sleep quickly. req  \n",
       "26            lithely regular deposits. fluffily   \n",
       "27         express accounts wake according to the  \n",
       "28                              e slyly final pac  \n",
       "29     symptotes nag according to the ironic depo  \n",
       "...                                           ...  \n",
       "9970  instructions. slyly pending deposits across  \n",
       "9971                       the theodolites boost   \n",
       "9972                         cajole slyly after t  \n",
       "9973                            quests nag around  \n",
       "9974                             slyly final theo  \n",
       "9975                  rts instead of the furiousl  \n",
       "9976               onic requests x-ray carefully   \n",
       "9977                             tes haggle slyly  \n",
       "9978                 he dolphins. bold, unusual d  \n",
       "9979              refully silent requests. blithe  \n",
       "9980        r carefully pending foxes. furiously   \n",
       "9981     equests. carefully bold deposits wake bl  \n",
       "9982                        accounts. special orb  \n",
       "9983           even excuses are against the slyly  \n",
       "9984           furiously silent accounts. blithel  \n",
       "9985                                   ly ironic   \n",
       "9986         ully even ideas. special pinto beans  \n",
       "9987                               pending theodo  \n",
       "9988                   refully. furiously regular  \n",
       "9989                                  dolphins ea  \n",
       "9990               slyly after the quickly expres  \n",
       "9991                         run blithely. pendin  \n",
       "9992     unts. quickly regular asymptotes wake. f  \n",
       "9993                    blithely about the final   \n",
       "9994                               es unwind alon  \n",
       "9995                      theodolites: permanentl  \n",
       "9996                      usly regular theodolite  \n",
       "9997                             mas cajole quick  \n",
       "9998                             thely stealthy d  \n",
       "9999      ully bold, silent packages. requests wa  \n",
       "\n",
       "[10000 rows x 16 columns]"
      ]
     },
     "execution_count": 17,
     "metadata": {},
     "output_type": "execute_result"
    }
   ],
   "source": [
    "path = '/__ibis/ibis-testing-data/parquet/tpch_lineitem'\n",
    "\n",
    "lineitem = con.parquet_file(path)\n",
    "lineitem.limit(2)"
   ]
  },
  {
   "cell_type": "code",
   "execution_count": 18,
   "metadata": {
    "collapsed": false
   },
   "outputs": [
    {
     "data": {
      "text/plain": [
       "Decimal('229577310901.20')"
      ]
     },
     "execution_count": 18,
     "metadata": {},
     "output_type": "execute_result"
    }
   ],
   "source": [
    "lineitem.l_extendedprice.sum()"
   ]
  },
  {
   "cell_type": "markdown",
   "metadata": {},
   "source": [
    "If you want to query a Parquet file and also create a table in Impala that remains after your session, you can pass more information to `parquet_file`:"
   ]
  },
  {
   "cell_type": "code",
   "execution_count": 19,
   "metadata": {
    "collapsed": false
   },
   "outputs": [
    {
     "data": {
      "text/plain": [
       "Decimal('229577310901.20')"
      ]
     },
     "execution_count": 19,
     "metadata": {},
     "output_type": "execute_result"
    }
   ],
   "source": [
    "table = con.parquet_file(path, name='my_parquet_table', \n",
    "                         database='ibis_testing',\n",
    "                         persist=True)\n",
    "table.l_extendedprice.sum()"
   ]
  },
  {
   "cell_type": "code",
   "execution_count": 20,
   "metadata": {
    "collapsed": false
   },
   "outputs": [
    {
     "data": {
      "text/plain": [
       "Decimal('229577310901.20')"
      ]
     },
     "execution_count": 20,
     "metadata": {},
     "output_type": "execute_result"
    }
   ],
   "source": [
    "con.table('my_parquet_table').l_extendedprice.sum()"
   ]
  },
  {
   "cell_type": "code",
   "execution_count": 21,
   "metadata": {
    "collapsed": false
   },
   "outputs": [],
   "source": [
    "con.drop_table('my_parquet_table')"
   ]
  },
  {
   "cell_type": "markdown",
   "metadata": {},
   "source": [
    "To query delimited files, you need to write down an Ibis schema. At some point we'd like to build some helper tools that will infer the schema for you, all in good time.\n",
    "\n",
    "There's some CSV files in the test folder, so let's use those:"
   ]
  },
  {
   "cell_type": "code",
   "execution_count": 22,
   "metadata": {
    "collapsed": false
   },
   "outputs": [
    {
     "data": {
      "text/plain": [
       "'csv-files'"
      ]
     },
     "execution_count": 22,
     "metadata": {},
     "output_type": "execute_result"
    }
   ],
   "source": [
    "hdfs.get('/__ibis/ibis-testing-data/csv', 'csv-files')"
   ]
  },
  {
   "cell_type": "code",
   "execution_count": 23,
   "metadata": {
    "collapsed": false
   },
   "outputs": [
    {
     "name": "stdout",
     "output_type": "stream",
     "text": [
      "dNmzRWWCKJ,0.558914329982219,42\r\n",
      "kpXp9U5Kv4,-0.8221358158299105,28\r\n",
      "7BcTT5B4wp,-1.2180159173981855,18\r\n",
      "W4vOjjJQrT,-1.7791277450782457,45\r\n",
      "tiVZsQWzpN,0.32936255878849235,84\r\n",
      "6ibbcK16f2,-0.36602855877465035,56\r\n",
      "QBsUQwKw0Z,0.1206123669383656,29\r\n",
      "FMp2sWNgaY,-0.015090055989338344,27\r\n",
      "UPXjybUQSj,0.42642200098179384,77\r\n",
      "L2f2ylNoIw,-0.5091003484680737,6\r\n"
     ]
    }
   ],
   "source": [
    "!cat csv-files/0.csv"
   ]
  },
  {
   "cell_type": "code",
   "execution_count": 24,
   "metadata": {
    "collapsed": false
   },
   "outputs": [],
   "source": [
    "!rm -rf csv-files/"
   ]
  },
  {
   "cell_type": "markdown",
   "metadata": {},
   "source": [
    "The schema here is pretty simple (see `ibis.schema` for more):"
   ]
  },
  {
   "cell_type": "code",
   "execution_count": 25,
   "metadata": {
    "collapsed": false
   },
   "outputs": [
    {
     "data": {
      "text/plain": [
       "           foo       bar  baz\n",
       "0   dNmzRWWCKJ  0.558914   42\n",
       "1   kpXp9U5Kv4 -0.822136   28\n",
       "2   7BcTT5B4wp -1.218016   18\n",
       "3   W4vOjjJQrT -1.779128   45\n",
       "4   tiVZsQWzpN  0.329363   84\n",
       "5   6ibbcK16f2 -0.366029   56\n",
       "6   QBsUQwKw0Z  0.120612   29\n",
       "7   FMp2sWNgaY -0.015090   27\n",
       "8   UPXjybUQSj  0.426422   77\n",
       "9   L2f2ylNoIw -0.509100    6\n",
       "10  dNmzRWWCKJ  0.558914   42\n",
       "11  kpXp9U5Kv4 -0.822136   28\n",
       "12  7BcTT5B4wp -1.218016   18\n",
       "13  W4vOjjJQrT -1.779128   45\n",
       "14  tiVZsQWzpN  0.329363   84\n",
       "15  6ibbcK16f2 -0.366029   56\n",
       "16  QBsUQwKw0Z  0.120612   29\n",
       "17  FMp2sWNgaY -0.015090   27\n",
       "18  UPXjybUQSj  0.426422   77\n",
       "19  L2f2ylNoIw -0.509100    6\n",
       "20  dNmzRWWCKJ  0.558914   42\n",
       "21  kpXp9U5Kv4 -0.822136   28\n",
       "22  7BcTT5B4wp -1.218016   18\n",
       "23  W4vOjjJQrT -1.779128   45\n",
       "24  tiVZsQWzpN  0.329363   84\n",
       "25  6ibbcK16f2 -0.366029   56\n",
       "26  QBsUQwKw0Z  0.120612   29\n",
       "27  FMp2sWNgaY -0.015090   27\n",
       "28  UPXjybUQSj  0.426422   77\n",
       "29  L2f2ylNoIw -0.509100    6\n",
       "..         ...       ...  ...\n",
       "70  dNmzRWWCKJ  0.558914   42\n",
       "71  kpXp9U5Kv4 -0.822136   28\n",
       "72  7BcTT5B4wp -1.218016   18\n",
       "73  W4vOjjJQrT -1.779128   45\n",
       "74  tiVZsQWzpN  0.329363   84\n",
       "75  6ibbcK16f2 -0.366029   56\n",
       "76  QBsUQwKw0Z  0.120612   29\n",
       "77  FMp2sWNgaY -0.015090   27\n",
       "78  UPXjybUQSj  0.426422   77\n",
       "79  L2f2ylNoIw -0.509100    6\n",
       "80  dNmzRWWCKJ  0.558914   42\n",
       "81  kpXp9U5Kv4 -0.822136   28\n",
       "82  7BcTT5B4wp -1.218016   18\n",
       "83  W4vOjjJQrT -1.779128   45\n",
       "84  tiVZsQWzpN  0.329363   84\n",
       "85  6ibbcK16f2 -0.366029   56\n",
       "86  QBsUQwKw0Z  0.120612   29\n",
       "87  FMp2sWNgaY -0.015090   27\n",
       "88  UPXjybUQSj  0.426422   77\n",
       "89  L2f2ylNoIw -0.509100    6\n",
       "90  dNmzRWWCKJ  0.558914   42\n",
       "91  kpXp9U5Kv4 -0.822136   28\n",
       "92  7BcTT5B4wp -1.218016   18\n",
       "93  W4vOjjJQrT -1.779128   45\n",
       "94  tiVZsQWzpN  0.329363   84\n",
       "95  6ibbcK16f2 -0.366029   56\n",
       "96  QBsUQwKw0Z  0.120612   29\n",
       "97  FMp2sWNgaY -0.015090   27\n",
       "98  UPXjybUQSj  0.426422   77\n",
       "99  L2f2ylNoIw -0.509100    6\n",
       "\n",
       "[100 rows x 3 columns]"
      ]
     },
     "execution_count": 25,
     "metadata": {},
     "output_type": "execute_result"
    }
   ],
   "source": [
    "schema = ibis.schema([('foo', 'string'),\n",
    "                      ('bar', 'double'),\n",
    "                      ('baz', 'int32')])\n",
    "\n",
    "table = con.delimited_file('/__ibis/ibis-testing-data/csv',\n",
    "                           schema)\n",
    "table.limit(10)"
   ]
  },
  {
   "cell_type": "code",
   "execution_count": 26,
   "metadata": {
    "collapsed": false
   },
   "outputs": [
    {
     "data": {
      "text/plain": [
       "   count  nulls       min       max        sum      mean  approx_nunique\n",
       "0    100      0 -1.779128  0.558914 -32.741872 -0.327419              10"
      ]
     },
     "execution_count": 26,
     "metadata": {},
     "output_type": "execute_result"
    }
   ],
   "source": [
    "table.bar.summary()"
   ]
  },
  {
   "cell_type": "markdown",
   "metadata": {},
   "source": [
    "For functions like `parquet_file` and `delimited_file`, an HDFS directory must be passed (we'll add support for S3 and other filesystems later) and the directory must contain files all having the same schema."
   ]
  },
  {
   "cell_type": "markdown",
   "metadata": {},
   "source": [
    "If you have Avro data, you can query it too if you have the full avro schema:"
   ]
  },
  {
   "cell_type": "code",
   "execution_count": 27,
   "metadata": {
    "collapsed": false
   },
   "outputs": [
    {
     "data": {
      "text/plain": [
       "Empty DataFrame\n",
       "Columns: [r_regionkey, r_name, r_comment]\n",
       "Index: []"
      ]
     },
     "execution_count": 27,
     "metadata": {},
     "output_type": "execute_result"
    }
   ],
   "source": [
    "avro_schema = {\n",
    "    \"fields\": [\n",
    "        {\"type\": [\"int\", \"null\"], \"name\": \"R_REGIONKEY\"},\n",
    "        {\"type\": [\"string\", \"null\"], \"name\": \"R_NAME\"},\n",
    "        {\"type\": [\"string\", \"null\"], \"name\": \"R_COMMENT\"}],\n",
    "    \"type\": \"record\",\n",
    "    \"name\": \"a\"\n",
    "}\n",
    "\n",
    "table = con.avro_file('/__ibis/ibis-testing-data/avro/tpch.region', avro_schema)\n",
    "table"
   ]
  },
  {
   "cell_type": "markdown",
   "metadata": {},
   "source": [
    "Other helper functions for interacting with the database\n",
    "---\n",
    "\n",
    "We're adding a growing list of useful utility functions for interacting with an Impala cluster on the client object. The idea is that you should be able to do any database-admin-type work with Ibis and not have to switch over to the Impala SQL shell. Any ways we can make this more pleasant, please let us know.\n",
    "\n",
    "Here's some of the features, which we'll give examples for:\n",
    "\n",
    "- Listing and searching for available databases and tables\n",
    "- Creating and dropping databases\n",
    "- Getting table schemas"
   ]
  },
  {
   "cell_type": "code",
   "execution_count": 28,
   "metadata": {
    "collapsed": false
   },
   "outputs": [
    {
     "data": {
      "text/plain": [
       "['ibis_testing']"
      ]
     },
     "execution_count": 28,
     "metadata": {},
     "output_type": "execute_result"
    }
   ],
   "source": [
    "con.list_databases(like='ibis*')"
   ]
  },
  {
   "cell_type": "code",
   "execution_count": 29,
   "metadata": {
    "collapsed": false
   },
   "outputs": [
    {
     "data": {
      "text/plain": [
       "['tpch_ctas_cancel',\n",
       " 'tpch_customer',\n",
       " 'tpch_lineitem',\n",
       " 'tpch_nation',\n",
       " 'tpch_orders',\n",
       " 'tpch_part',\n",
       " 'tpch_partsupp',\n",
       " 'tpch_region',\n",
       " 'tpch_region_avro',\n",
       " 'tpch_supplier']"
      ]
     },
     "execution_count": 29,
     "metadata": {},
     "output_type": "execute_result"
    }
   ],
   "source": [
    "con.list_tables(database='ibis_testing', like='tpch*')"
   ]
  },
  {
   "cell_type": "code",
   "execution_count": 30,
   "metadata": {
    "collapsed": false
   },
   "outputs": [
    {
     "data": {
      "text/plain": [
       "ibis.Schema {  \n",
       "  id               int32\n",
       "  bool_col         boolean\n",
       "  tinyint_col      int8\n",
       "  smallint_col     int16\n",
       "  int_col          int32\n",
       "  bigint_col       int64\n",
       "  float_col        float\n",
       "  double_col       double\n",
       "  date_string_col  string\n",
       "  string_col       string\n",
       "  timestamp_col    timestamp\n",
       "  year             int32\n",
       "  month            int32\n",
       "}"
      ]
     },
     "execution_count": 30,
     "metadata": {},
     "output_type": "execute_result"
    }
   ],
   "source": [
    "schema = con.get_schema('functional_alltypes')\n",
    "schema"
   ]
  },
  {
   "cell_type": "markdown",
   "metadata": {},
   "source": [
    "Databases can be created, too, and you can set the storage path in HDFS you want for the data files"
   ]
  },
  {
   "cell_type": "code",
   "execution_count": 31,
   "metadata": {
    "collapsed": false
   },
   "outputs": [],
   "source": [
    "db = 'ibis_testing2'\n",
    "con.create_database(db, path='/__ibis/my-test-database')\n",
    "con.create_table('example_table', con.table('functional_alltypes'),\n",
    "                 database=db)"
   ]
  },
  {
   "cell_type": "markdown",
   "metadata": {},
   "source": [
    "Hopefully, there will be data files in the indicated spot in HDFS:"
   ]
  },
  {
   "cell_type": "code",
   "execution_count": 32,
   "metadata": {
    "collapsed": false
   },
   "outputs": [
    {
     "data": {
      "text/plain": [
       "[u'/__ibis/my-test-database/example_table']"
      ]
     },
     "execution_count": 32,
     "metadata": {},
     "output_type": "execute_result"
    }
   ],
   "source": [
    "hdfs.ls('/__ibis/my-test-database')"
   ]
  },
  {
   "cell_type": "markdown",
   "metadata": {},
   "source": [
    "To drop a database, including all tables in it, you can use `drop_database` with `force=True`:"
   ]
  },
  {
   "cell_type": "code",
   "execution_count": 33,
   "metadata": {
    "collapsed": false
   },
   "outputs": [],
   "source": [
    "con.drop_database(db, force=True)"
   ]
  },
  {
   "cell_type": "markdown",
   "metadata": {},
   "source": [
    "Dealing with Partitioned tables in Impala\n",
    "---"
   ]
  },
  {
   "cell_type": "markdown",
   "metadata": {},
   "source": [
    "**Placeholder:** This is not yet implemented. If you have use cases, please let us know."
   ]
  },
  {
   "cell_type": "markdown",
   "metadata": {},
   "source": [
    "Faster queries on small data in Impala\n",
    "---\n",
    "\n",
    "Since Impala internally uses LLVM to compile parts of queries (aka \"codegen\") to make them faster on large data sets there is a certain amount of overhead with running many kinds of queries, even on small datasets. You can disable LLVM code generation when using Ibis, which may significantly speed up queries on smaller datasets:"
   ]
  },
  {
   "cell_type": "code",
   "execution_count": 34,
   "metadata": {
    "collapsed": false
   },
   "outputs": [],
   "source": [
    "from numpy.random import rand"
   ]
  },
  {
   "cell_type": "code",
   "execution_count": 35,
   "metadata": {
    "collapsed": false
   },
   "outputs": [],
   "source": [
    "con.disable_codegen()"
   ]
  },
  {
   "cell_type": "code",
   "execution_count": 36,
   "metadata": {
    "collapsed": false
   },
   "outputs": [
    {
     "name": "stdout",
     "output_type": "stream",
     "text": [
      "10 loops, best of 3: 141 ms per loop\n"
     ]
    }
   ],
   "source": [
    "t = con.table('ibis_testing.functional_alltypes')\n",
    "\n",
    "%timeit (t.double_col + rand()).sum().execute()"
   ]
  },
  {
   "cell_type": "code",
   "execution_count": 37,
   "metadata": {
    "collapsed": false
   },
   "outputs": [],
   "source": [
    "# Turn codegen back on\n",
    "con.disable_codegen(False)"
   ]
  },
  {
   "cell_type": "code",
   "execution_count": 38,
   "metadata": {
    "collapsed": false
   },
   "outputs": [
    {
     "name": "stdout",
     "output_type": "stream",
     "text": [
      "1 loops, best of 3: 2.03 s per loop\n"
     ]
    }
   ],
   "source": [
    "%timeit (t.double_col + rand()).sum().execute()"
   ]
  },
  {
   "cell_type": "markdown",
   "metadata": {},
   "source": [
    "It's important to remember that codegen is a fixed overhead and will significantly speed up queries on big data"
   ]
  }
 ],
 "metadata": {
  "kernelspec": {
   "display_name": "Python 2",
   "language": "python",
   "name": "python2"
  },
  "language_info": {
   "codemirror_mode": {
    "name": "ipython",
    "version": 2
   },
   "file_extension": ".py",
   "mimetype": "text/x-python",
   "name": "python",
   "nbconvert_exporter": "python",
   "pygments_lexer": "ipython2",
   "version": "2.7.10"
  }
 },
 "nbformat": 4,
 "nbformat_minor": 0
}
